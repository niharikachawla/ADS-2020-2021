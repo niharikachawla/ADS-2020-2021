{
 "cells": [
  {
   "cell_type": "markdown",
   "metadata": {},
   "source": [
    "<H>LAB EXERCISES</H>"
   ]
  },
  {
   "cell_type": "markdown",
   "metadata": {},
   "source": [
    "importing the libraries required"
   ]
  },
  {
   "cell_type": "code",
   "execution_count": 1,
   "metadata": {},
   "outputs": [],
   "source": [
    "import pandas as pd\n",
    "import csv"
   ]
  },
  {
   "cell_type": "markdown",
   "metadata": {},
   "source": [
    "Reading the data  of the tables from the csv files uploaded in the same drive as the jupyter notebook "
   ]
  },
  {
   "cell_type": "code",
   "execution_count": 2,
   "metadata": {},
   "outputs": [],
   "source": [
    "#READING DATA FROM BBC TABLE AND PUTTING THE DATA IN A DATAFRAME NAMED BBC\n",
    "\n",
    "bbc=pd.read_csv(\"bbc.csv\")\n",
    "\n",
    "#READING DATA FROM WORLD TABLE AND PUTTING THE DATA IN A DATAFRAME NAMED WORLD\n",
    "\n",
    "world= pd.read_csv(filepath_or_buffer = 'world.csv', delimiter=',', \n",
    "                 doublequote=True, quotechar='\"',na_values = ['na', '-', '.', ''], \n",
    "                 quoting=csv.QUOTE_ALL, encoding = \"ISO-8859-1\")\n",
    "\n",
    "#READING DATA FROM ETEAM TABLE AND PUTTING THE DATA IN A DATAFRAME NAMED ETEAM\n",
    "\n",
    "eteam=pd.read_csv(\"eteam.csv\",delimiter=',', \n",
    "                 doublequote=True, quotechar='\"',na_values = ['na', '-', '.', ''], \n",
    "                 quoting=csv.QUOTE_ALL, encoding = \"ISO-8859-1\")\n",
    "\n",
    "#READING DATA FROM GAME TABLE AND PUTTING THE DATA IN A DATAFRAME NAMED GAME\n",
    "\n",
    "game = pd.read_csv(filepath_or_buffer = 'game.csv')\n",
    "\n",
    "#READING DATA FROM GOAL TABLE AND PUTTING THE DATA IN A DATAFRAME NAMED GOAL\n",
    "\n",
    "goal=pd.read_csv('goal.csv',delimiter=',', \n",
    "                 doublequote=True, quotechar='\"',na_values = ['na', '-', '.', ''], \n",
    "                 quoting=csv.QUOTE_ALL, encoding = \"ISO-8859-1\")\n",
    "\n",
    "#READING DATA FROM NOBEL TABLE AND PUTTING THE DATA IN A DATAFRAME NAMED NOBEL\n",
    "\n",
    "nobel=pd.read_csv('nobel.csv')\n",
    "\n",
    "#READING DATA FROM MOVIES TABLE AND PUTTING THE DATA IN A DATAFRAME NAMED MOVIES\n",
    "\n",
    "movies=pd.read_csv(\"movies.csv\")"
   ]
  },
  {
   "cell_type": "markdown",
   "metadata": {},
   "source": [
    "Note by Professor\n",
    "Data Wrangling and Data Analysis\n",
    "Lab1 Exercises: Data Extraction\n",
    "In this lab, we will use the 7 tables that Proffessor added on teams. Note: The queries that will write might not return records. Focus on writing the query correctly. Write the queries in both SQL and Python unless otherwise stated explicitly."
   ]
  },
  {
   "cell_type": "markdown",
   "metadata": {},
   "source": [
    "Question 1.\n",
    "If you know that in the world table, the continent of the countries Armenia, Azerbaijan, Russia, Georgia and Turkey is not Europe. Write a query that returns the total area of the European countries after adding the area of these countries."
   ]
  },
  {
   "cell_type": "code",
   "execution_count": 3,
   "metadata": {},
   "outputs": [
    {
     "data": {
      "text/html": [
       "<div>\n",
       "<style scoped>\n",
       "    .dataframe tbody tr th:only-of-type {\n",
       "        vertical-align: middle;\n",
       "    }\n",
       "\n",
       "    .dataframe tbody tr th {\n",
       "        vertical-align: top;\n",
       "    }\n",
       "\n",
       "    .dataframe thead th {\n",
       "        text-align: right;\n",
       "    }\n",
       "</style>\n",
       "<table border=\"1\" class=\"dataframe\">\n",
       "  <thead>\n",
       "    <tr style=\"text-align: right;\">\n",
       "      <th></th>\n",
       "      <th>name</th>\n",
       "      <th>continent</th>\n",
       "      <th>area</th>\n",
       "      <th>population</th>\n",
       "      <th>gdp</th>\n",
       "      <th>capital</th>\n",
       "      <th>tld</th>\n",
       "      <th>flag</th>\n",
       "    </tr>\n",
       "  </thead>\n",
       "  <tbody>\n",
       "    <tr>\n",
       "      <th>0</th>\n",
       "      <td>Afghanistan</td>\n",
       "      <td>Asia</td>\n",
       "      <td>652230</td>\n",
       "      <td>25500100</td>\n",
       "      <td>2.036400e+10</td>\n",
       "      <td>Kabul</td>\n",
       "      <td>.af</td>\n",
       "      <td>//upload.wikimedia.org/wikipedia/commons/9/9a/...</td>\n",
       "    </tr>\n",
       "    <tr>\n",
       "      <th>1</th>\n",
       "      <td>Albania</td>\n",
       "      <td>Europe</td>\n",
       "      <td>28748</td>\n",
       "      <td>2821977</td>\n",
       "      <td>1.204400e+10</td>\n",
       "      <td>Tirana</td>\n",
       "      <td>.al</td>\n",
       "      <td>//upload.wikimedia.org/wikipedia/commons/3/36/...</td>\n",
       "    </tr>\n",
       "    <tr>\n",
       "      <th>2</th>\n",
       "      <td>Algeria</td>\n",
       "      <td>Africa</td>\n",
       "      <td>2381741</td>\n",
       "      <td>38700000</td>\n",
       "      <td>2.070210e+11</td>\n",
       "      <td>Algiers</td>\n",
       "      <td>.dz</td>\n",
       "      <td>//upload.wikimedia.org/wikipedia/commons/7/77/...</td>\n",
       "    </tr>\n",
       "    <tr>\n",
       "      <th>3</th>\n",
       "      <td>Andorra</td>\n",
       "      <td>Europe</td>\n",
       "      <td>468</td>\n",
       "      <td>76098</td>\n",
       "      <td>3.222000e+09</td>\n",
       "      <td>Andorra la Vella</td>\n",
       "      <td>.ad</td>\n",
       "      <td>//upload.wikimedia.org/wikipedia/commons/1/19/...</td>\n",
       "    </tr>\n",
       "    <tr>\n",
       "      <th>4</th>\n",
       "      <td>Angola</td>\n",
       "      <td>Africa</td>\n",
       "      <td>1246700</td>\n",
       "      <td>19183590</td>\n",
       "      <td>1.163080e+11</td>\n",
       "      <td>Luanda</td>\n",
       "      <td>.ao</td>\n",
       "      <td>//upload.wikimedia.org/wikipedia/commons/9/9d/...</td>\n",
       "    </tr>\n",
       "  </tbody>\n",
       "</table>\n",
       "</div>"
      ],
      "text/plain": [
       "          name continent     area  population           gdp           capital  \\\n",
       "0  Afghanistan      Asia   652230    25500100  2.036400e+10             Kabul   \n",
       "1      Albania    Europe    28748     2821977  1.204400e+10            Tirana   \n",
       "2      Algeria    Africa  2381741    38700000  2.070210e+11           Algiers   \n",
       "3      Andorra    Europe      468       76098  3.222000e+09  Andorra la Vella   \n",
       "4       Angola    Africa  1246700    19183590  1.163080e+11            Luanda   \n",
       "\n",
       "   tld                                               flag  \n",
       "0  .af  //upload.wikimedia.org/wikipedia/commons/9/9a/...  \n",
       "1  .al  //upload.wikimedia.org/wikipedia/commons/3/36/...  \n",
       "2  .dz  //upload.wikimedia.org/wikipedia/commons/7/77/...  \n",
       "3  .ad  //upload.wikimedia.org/wikipedia/commons/1/19/...  \n",
       "4  .ao  //upload.wikimedia.org/wikipedia/commons/9/9d/...  "
      ]
     },
     "execution_count": 3,
     "metadata": {},
     "output_type": "execute_result"
    }
   ],
   "source": [
    "#looking at data from world table\n",
    "world.head()"
   ]
  },
  {
   "cell_type": "code",
   "execution_count": 30,
   "metadata": {},
   "outputs": [],
   "source": [
    "europe_area=world['area'][world['continent']=='Europe'].sum()\n",
    "new_area=(world['area'][world['name'].isin(['Armenia', \"Azerbaijan\", \"Russia\", \"Georgia\", \"Turkey\"])]).sum()\n",
    "europe_area\n",
    "new_area\n",
    "total_area=europe_area+new_area\n",
    "\n"
   ]
  },
  {
   "cell_type": "markdown",
   "metadata": {},
   "source": [
    "Question 2.\n",
    "Write a query that returns the names of the players in the German team who scored at least one goal with the name of the stadium where they scored the goals."
   ]
  },
  {
   "cell_type": "code",
   "execution_count": 5,
   "metadata": {},
   "outputs": [
    {
     "name": "stdout",
     "output_type": "stream",
     "text": [
      "     id      mdate                    stadium team1 team2\n",
      "0  1001   8-Jun-12   National Stadium, Warsaw   POL   GRE\n",
      "1  1002   8-Jun-12  Stadion Miejski (Wroclaw)   RUS   CZE\n",
      "2  1003  12-Jun-12  Stadion Miejski (Wroclaw)   GRE   CZE\n",
      "3  1004  12-Jun-12   National Stadium, Warsaw   POL   RUS\n",
      "4  1005  16-Jun-12  Stadion Miejski (Wroclaw)   CZE   POL\n",
      "   matchid teamid                player  gtime\n",
      "0     1001    POL    Robert Lewandowski     17\n",
      "1     1001    GRE  Dimitris Salpingidis     51\n",
      "2     1002    RUS          Alan Dzagoev     15\n",
      "3     1002    RUS        Roman Shirokov     24\n",
      "4     1002    CZE          Václav Pilar     52\n"
     ]
    }
   ],
   "source": [
    "#inspecting tables data\n",
    "print(game.head())\n",
    "print(goal.head())\n"
   ]
  },
  {
   "cell_type": "code",
   "execution_count": 6,
   "metadata": {},
   "outputs": [
    {
     "data": {
      "text/html": [
       "<div>\n",
       "<style scoped>\n",
       "    .dataframe tbody tr th:only-of-type {\n",
       "        vertical-align: middle;\n",
       "    }\n",
       "\n",
       "    .dataframe tbody tr th {\n",
       "        vertical-align: top;\n",
       "    }\n",
       "\n",
       "    .dataframe thead th {\n",
       "        text-align: right;\n",
       "    }\n",
       "</style>\n",
       "<table border=\"1\" class=\"dataframe\">\n",
       "  <thead>\n",
       "    <tr style=\"text-align: right;\">\n",
       "      <th></th>\n",
       "      <th>id</th>\n",
       "      <th>mdate</th>\n",
       "      <th>stadium</th>\n",
       "      <th>team1</th>\n",
       "      <th>team2</th>\n",
       "      <th>matchid</th>\n",
       "      <th>teamid</th>\n",
       "      <th>player</th>\n",
       "      <th>gtime</th>\n",
       "    </tr>\n",
       "  </thead>\n",
       "  <tbody>\n",
       "    <tr>\n",
       "      <th>0</th>\n",
       "      <td>1001</td>\n",
       "      <td>8-Jun-12</td>\n",
       "      <td>National Stadium, Warsaw</td>\n",
       "      <td>POL</td>\n",
       "      <td>GRE</td>\n",
       "      <td>1001</td>\n",
       "      <td>POL</td>\n",
       "      <td>Robert Lewandowski</td>\n",
       "      <td>17</td>\n",
       "    </tr>\n",
       "    <tr>\n",
       "      <th>1</th>\n",
       "      <td>1001</td>\n",
       "      <td>8-Jun-12</td>\n",
       "      <td>National Stadium, Warsaw</td>\n",
       "      <td>POL</td>\n",
       "      <td>GRE</td>\n",
       "      <td>1001</td>\n",
       "      <td>GRE</td>\n",
       "      <td>Dimitris Salpingidis</td>\n",
       "      <td>51</td>\n",
       "    </tr>\n",
       "    <tr>\n",
       "      <th>2</th>\n",
       "      <td>1002</td>\n",
       "      <td>8-Jun-12</td>\n",
       "      <td>Stadion Miejski (Wroclaw)</td>\n",
       "      <td>RUS</td>\n",
       "      <td>CZE</td>\n",
       "      <td>1002</td>\n",
       "      <td>RUS</td>\n",
       "      <td>Alan Dzagoev</td>\n",
       "      <td>15</td>\n",
       "    </tr>\n",
       "    <tr>\n",
       "      <th>3</th>\n",
       "      <td>1002</td>\n",
       "      <td>8-Jun-12</td>\n",
       "      <td>Stadion Miejski (Wroclaw)</td>\n",
       "      <td>RUS</td>\n",
       "      <td>CZE</td>\n",
       "      <td>1002</td>\n",
       "      <td>RUS</td>\n",
       "      <td>Roman Shirokov</td>\n",
       "      <td>24</td>\n",
       "    </tr>\n",
       "    <tr>\n",
       "      <th>4</th>\n",
       "      <td>1002</td>\n",
       "      <td>8-Jun-12</td>\n",
       "      <td>Stadion Miejski (Wroclaw)</td>\n",
       "      <td>RUS</td>\n",
       "      <td>CZE</td>\n",
       "      <td>1002</td>\n",
       "      <td>CZE</td>\n",
       "      <td>Václav Pilar</td>\n",
       "      <td>52</td>\n",
       "    </tr>\n",
       "  </tbody>\n",
       "</table>\n",
       "</div>"
      ],
      "text/plain": [
       "     id     mdate                    stadium team1 team2  matchid teamid  \\\n",
       "0  1001  8-Jun-12   National Stadium, Warsaw   POL   GRE     1001    POL   \n",
       "1  1001  8-Jun-12   National Stadium, Warsaw   POL   GRE     1001    GRE   \n",
       "2  1002  8-Jun-12  Stadion Miejski (Wroclaw)   RUS   CZE     1002    RUS   \n",
       "3  1002  8-Jun-12  Stadion Miejski (Wroclaw)   RUS   CZE     1002    RUS   \n",
       "4  1002  8-Jun-12  Stadion Miejski (Wroclaw)   RUS   CZE     1002    CZE   \n",
       "\n",
       "                 player  gtime  \n",
       "0    Robert Lewandowski     17  \n",
       "1  Dimitris Salpingidis     51  \n",
       "2          Alan Dzagoev     15  \n",
       "3        Roman Shirokov     24  \n",
       "4          Václav Pilar     52  "
      ]
     },
     "execution_count": 6,
     "metadata": {},
     "output_type": "execute_result"
    }
   ],
   "source": [
    "goal_game= pd.merge(game, goal, left_on='id', right_on='matchid')\n",
    "goal_game.head()"
   ]
  },
  {
   "cell_type": "code",
   "execution_count": 7,
   "metadata": {},
   "outputs": [
    {
     "data": {
      "text/plain": [
       "0"
      ]
     },
     "execution_count": 7,
     "metadata": {},
     "output_type": "execute_result"
    }
   ],
   "source": [
    "goal_game['gtime'].isnull().sum()\n",
    "#no goal time is null ,so taking that minimum of 1 goal is done "
   ]
  },
  {
   "cell_type": "code",
   "execution_count": 26,
   "metadata": {},
   "outputs": [
    {
     "data": {
      "text/html": [
       "<div>\n",
       "<style scoped>\n",
       "    .dataframe tbody tr th:only-of-type {\n",
       "        vertical-align: middle;\n",
       "    }\n",
       "\n",
       "    .dataframe tbody tr th {\n",
       "        vertical-align: top;\n",
       "    }\n",
       "\n",
       "    .dataframe thead th {\n",
       "        text-align: right;\n",
       "    }\n",
       "</style>\n",
       "<table border=\"1\" class=\"dataframe\">\n",
       "  <thead>\n",
       "    <tr style=\"text-align: right;\">\n",
       "      <th></th>\n",
       "      <th>player</th>\n",
       "      <th>stadium</th>\n",
       "    </tr>\n",
       "  </thead>\n",
       "  <tbody>\n",
       "    <tr>\n",
       "      <th>15</th>\n",
       "      <td>Mario Gómez</td>\n",
       "      <td>Arena Lviv</td>\n",
       "    </tr>\n",
       "    <tr>\n",
       "      <th>21</th>\n",
       "      <td>Mario Gómez</td>\n",
       "      <td>Metalist Stadium</td>\n",
       "    </tr>\n",
       "    <tr>\n",
       "      <th>22</th>\n",
       "      <td>Mario Gómez</td>\n",
       "      <td>Metalist Stadium</td>\n",
       "    </tr>\n",
       "    <tr>\n",
       "      <th>27</th>\n",
       "      <td>Lukas Podolski</td>\n",
       "      <td>Arena Lviv</td>\n",
       "    </tr>\n",
       "    <tr>\n",
       "      <th>29</th>\n",
       "      <td>Lars Bender</td>\n",
       "      <td>Arena Lviv</td>\n",
       "    </tr>\n",
       "    <tr>\n",
       "      <th>61</th>\n",
       "      <td>Philipp Lahm</td>\n",
       "      <td>PGE Arena Gdansk</td>\n",
       "    </tr>\n",
       "    <tr>\n",
       "      <th>63</th>\n",
       "      <td>Sami Khedira</td>\n",
       "      <td>PGE Arena Gdansk</td>\n",
       "    </tr>\n",
       "    <tr>\n",
       "      <th>64</th>\n",
       "      <td>Miroslav Klose</td>\n",
       "      <td>PGE Arena Gdansk</td>\n",
       "    </tr>\n",
       "    <tr>\n",
       "      <th>65</th>\n",
       "      <td>Marco Reus</td>\n",
       "      <td>PGE Arena Gdansk</td>\n",
       "    </tr>\n",
       "    <tr>\n",
       "      <th>71</th>\n",
       "      <td>Mesut Özil</td>\n",
       "      <td>National Stadium, Warsaw</td>\n",
       "    </tr>\n",
       "  </tbody>\n",
       "</table>\n",
       "</div>"
      ],
      "text/plain": [
       "            player                   stadium\n",
       "15     Mario Gómez                Arena Lviv\n",
       "21     Mario Gómez          Metalist Stadium\n",
       "22     Mario Gómez          Metalist Stadium\n",
       "27  Lukas Podolski                Arena Lviv\n",
       "29     Lars Bender                Arena Lviv\n",
       "61    Philipp Lahm          PGE Arena Gdansk\n",
       "63    Sami Khedira          PGE Arena Gdansk\n",
       "64  Miroslav Klose          PGE Arena Gdansk\n",
       "65      Marco Reus          PGE Arena Gdansk\n",
       "71      Mesut Özil  National Stadium, Warsaw"
      ]
     },
     "execution_count": 26,
     "metadata": {},
     "output_type": "execute_result"
    }
   ],
   "source": [
    "#goal_game.loc[(goal_game['teamid']=='GER'),['player','stadium']]\n",
    "goal_game[['player','stadium']][goal_game['teamid'] == 'GER']"
   ]
  },
  {
   "cell_type": "markdown",
   "metadata": {},
   "source": [
    "Question 3\n",
    "Write a query which would show the players and their teams for those who have scored against France (FRA) in Donbass Arena."
   ]
  },
  {
   "cell_type": "code",
   "execution_count": 9,
   "metadata": {},
   "outputs": [
    {
     "data": {
      "text/html": [
       "<div>\n",
       "<style scoped>\n",
       "    .dataframe tbody tr th:only-of-type {\n",
       "        vertical-align: middle;\n",
       "    }\n",
       "\n",
       "    .dataframe tbody tr th {\n",
       "        vertical-align: top;\n",
       "    }\n",
       "\n",
       "    .dataframe thead th {\n",
       "        text-align: right;\n",
       "    }\n",
       "</style>\n",
       "<table border=\"1\" class=\"dataframe\">\n",
       "  <thead>\n",
       "    <tr style=\"text-align: right;\">\n",
       "      <th></th>\n",
       "      <th>player</th>\n",
       "      <th>teamid</th>\n",
       "      <th>stadium</th>\n",
       "    </tr>\n",
       "  </thead>\n",
       "  <tbody>\n",
       "    <tr>\n",
       "      <th>45</th>\n",
       "      <td>Joleon Lescott</td>\n",
       "      <td>ENG</td>\n",
       "      <td>Donbass Arena</td>\n",
       "    </tr>\n",
       "    <tr>\n",
       "      <th>67</th>\n",
       "      <td>Xabi Alonso</td>\n",
       "      <td>ESP</td>\n",
       "      <td>Donbass Arena</td>\n",
       "    </tr>\n",
       "    <tr>\n",
       "      <th>68</th>\n",
       "      <td>Xabi Alonso</td>\n",
       "      <td>ESP</td>\n",
       "      <td>Donbass Arena</td>\n",
       "    </tr>\n",
       "  </tbody>\n",
       "</table>\n",
       "</div>"
      ],
      "text/plain": [
       "            player teamid        stadium\n",
       "45  Joleon Lescott    ENG  Donbass Arena\n",
       "67     Xabi Alonso    ESP  Donbass Arena\n",
       "68     Xabi Alonso    ESP  Donbass Arena"
      ]
     },
     "execution_count": 9,
     "metadata": {},
     "output_type": "execute_result"
    }
   ],
   "source": [
    "goal_game.loc[:,['player', 'teamid', 'stadium']][(((goal_game['team1'] == 'FRA') | (goal_game['team2'] == 'FRA')) & (goal_game['teamid'] != 'FRA') & (goal_game['stadium'] == 'Donbass Arena'))]"
   ]
  },
  {
   "cell_type": "markdown",
   "metadata": {},
   "source": [
    "question:4 Write a query that displays the name and the the average population of the continent in the world table.\n"
   ]
  },
  {
   "cell_type": "code",
   "execution_count": 10,
   "metadata": {},
   "outputs": [
    {
     "data": {
      "text/html": [
       "<div>\n",
       "<style scoped>\n",
       "    .dataframe tbody tr th:only-of-type {\n",
       "        vertical-align: middle;\n",
       "    }\n",
       "\n",
       "    .dataframe tbody tr th {\n",
       "        vertical-align: top;\n",
       "    }\n",
       "\n",
       "    .dataframe thead th {\n",
       "        text-align: right;\n",
       "    }\n",
       "</style>\n",
       "<table border=\"1\" class=\"dataframe\">\n",
       "  <thead>\n",
       "    <tr style=\"text-align: right;\">\n",
       "      <th></th>\n",
       "      <th>name</th>\n",
       "      <th>continent</th>\n",
       "      <th>area</th>\n",
       "      <th>population</th>\n",
       "      <th>gdp</th>\n",
       "      <th>capital</th>\n",
       "      <th>tld</th>\n",
       "      <th>flag</th>\n",
       "    </tr>\n",
       "  </thead>\n",
       "  <tbody>\n",
       "    <tr>\n",
       "      <th>0</th>\n",
       "      <td>Afghanistan</td>\n",
       "      <td>Asia</td>\n",
       "      <td>652230</td>\n",
       "      <td>25500100</td>\n",
       "      <td>2.036400e+10</td>\n",
       "      <td>Kabul</td>\n",
       "      <td>.af</td>\n",
       "      <td>//upload.wikimedia.org/wikipedia/commons/9/9a/...</td>\n",
       "    </tr>\n",
       "    <tr>\n",
       "      <th>1</th>\n",
       "      <td>Albania</td>\n",
       "      <td>Europe</td>\n",
       "      <td>28748</td>\n",
       "      <td>2821977</td>\n",
       "      <td>1.204400e+10</td>\n",
       "      <td>Tirana</td>\n",
       "      <td>.al</td>\n",
       "      <td>//upload.wikimedia.org/wikipedia/commons/3/36/...</td>\n",
       "    </tr>\n",
       "    <tr>\n",
       "      <th>2</th>\n",
       "      <td>Algeria</td>\n",
       "      <td>Africa</td>\n",
       "      <td>2381741</td>\n",
       "      <td>38700000</td>\n",
       "      <td>2.070210e+11</td>\n",
       "      <td>Algiers</td>\n",
       "      <td>.dz</td>\n",
       "      <td>//upload.wikimedia.org/wikipedia/commons/7/77/...</td>\n",
       "    </tr>\n",
       "    <tr>\n",
       "      <th>3</th>\n",
       "      <td>Andorra</td>\n",
       "      <td>Europe</td>\n",
       "      <td>468</td>\n",
       "      <td>76098</td>\n",
       "      <td>3.222000e+09</td>\n",
       "      <td>Andorra la Vella</td>\n",
       "      <td>.ad</td>\n",
       "      <td>//upload.wikimedia.org/wikipedia/commons/1/19/...</td>\n",
       "    </tr>\n",
       "    <tr>\n",
       "      <th>4</th>\n",
       "      <td>Angola</td>\n",
       "      <td>Africa</td>\n",
       "      <td>1246700</td>\n",
       "      <td>19183590</td>\n",
       "      <td>1.163080e+11</td>\n",
       "      <td>Luanda</td>\n",
       "      <td>.ao</td>\n",
       "      <td>//upload.wikimedia.org/wikipedia/commons/9/9d/...</td>\n",
       "    </tr>\n",
       "  </tbody>\n",
       "</table>\n",
       "</div>"
      ],
      "text/plain": [
       "          name continent     area  population           gdp           capital  \\\n",
       "0  Afghanistan      Asia   652230    25500100  2.036400e+10             Kabul   \n",
       "1      Albania    Europe    28748     2821977  1.204400e+10            Tirana   \n",
       "2      Algeria    Africa  2381741    38700000  2.070210e+11           Algiers   \n",
       "3      Andorra    Europe      468       76098  3.222000e+09  Andorra la Vella   \n",
       "4       Angola    Africa  1246700    19183590  1.163080e+11            Luanda   \n",
       "\n",
       "   tld                                               flag  \n",
       "0  .af  //upload.wikimedia.org/wikipedia/commons/9/9a/...  \n",
       "1  .al  //upload.wikimedia.org/wikipedia/commons/3/36/...  \n",
       "2  .dz  //upload.wikimedia.org/wikipedia/commons/7/77/...  \n",
       "3  .ad  //upload.wikimedia.org/wikipedia/commons/1/19/...  \n",
       "4  .ao  //upload.wikimedia.org/wikipedia/commons/9/9d/...  "
      ]
     },
     "execution_count": 10,
     "metadata": {},
     "output_type": "execute_result"
    }
   ],
   "source": [
    "world.head()"
   ]
  },
  {
   "cell_type": "code",
   "execution_count": 11,
   "metadata": {},
   "outputs": [
    {
     "data": {
      "text/html": [
       "<div>\n",
       "<style scoped>\n",
       "    .dataframe tbody tr th:only-of-type {\n",
       "        vertical-align: middle;\n",
       "    }\n",
       "\n",
       "    .dataframe tbody tr th {\n",
       "        vertical-align: top;\n",
       "    }\n",
       "\n",
       "    .dataframe thead th {\n",
       "        text-align: right;\n",
       "    }\n",
       "</style>\n",
       "<table border=\"1\" class=\"dataframe\">\n",
       "  <thead>\n",
       "    <tr style=\"text-align: right;\">\n",
       "      <th></th>\n",
       "      <th>population</th>\n",
       "    </tr>\n",
       "    <tr>\n",
       "      <th>continent</th>\n",
       "      <th></th>\n",
       "    </tr>\n",
       "  </thead>\n",
       "  <tbody>\n",
       "    <tr>\n",
       "      <th>Africa</th>\n",
       "      <td>1.917153e+07</td>\n",
       "    </tr>\n",
       "    <tr>\n",
       "      <th>Asia</th>\n",
       "      <td>9.240331e+07</td>\n",
       "    </tr>\n",
       "    <tr>\n",
       "      <th>Caribbean</th>\n",
       "      <td>3.286291e+06</td>\n",
       "    </tr>\n",
       "    <tr>\n",
       "      <th>Eurasia</th>\n",
       "      <td>7.450870e+07</td>\n",
       "    </tr>\n",
       "    <tr>\n",
       "      <th>Europe</th>\n",
       "      <td>1.386959e+07</td>\n",
       "    </tr>\n",
       "    <tr>\n",
       "      <th>North America</th>\n",
       "      <td>4.715956e+07</td>\n",
       "    </tr>\n",
       "    <tr>\n",
       "      <th>Oceania</th>\n",
       "      <td>2.698820e+06</td>\n",
       "    </tr>\n",
       "    <tr>\n",
       "      <th>South America</th>\n",
       "      <td>3.135531e+07</td>\n",
       "    </tr>\n",
       "  </tbody>\n",
       "</table>\n",
       "</div>"
      ],
      "text/plain": [
       "                 population\n",
       "continent                  \n",
       "Africa         1.917153e+07\n",
       "Asia           9.240331e+07\n",
       "Caribbean      3.286291e+06\n",
       "Eurasia        7.450870e+07\n",
       "Europe         1.386959e+07\n",
       "North America  4.715956e+07\n",
       "Oceania        2.698820e+06\n",
       "South America  3.135531e+07"
      ]
     },
     "execution_count": 11,
     "metadata": {},
     "output_type": "execute_result"
    }
   ],
   "source": [
    "world[['continent','population']].groupby(\"continent\").mean()"
   ]
  },
  {
   "cell_type": "markdown",
   "metadata": {},
   "source": [
    "Question 5.\n",
    "Write a query to return the number of missing values in each column of the world table [only in Python for now]. Use the world table"
   ]
  },
  {
   "cell_type": "code",
   "execution_count": 12,
   "metadata": {},
   "outputs": [
    {
     "data": {
      "text/plain": [
       "name          0\n",
       "continent     0\n",
       "area          0\n",
       "population    0\n",
       "gdp           6\n",
       "capital       1\n",
       "tld           0\n",
       "flag          0\n",
       "dtype: int64"
      ]
     },
     "execution_count": 12,
     "metadata": {},
     "output_type": "execute_result"
    }
   ],
   "source": [
    "missing = world.isnull().sum()\n",
    "missing"
   ]
  },
  {
   "cell_type": "markdown",
   "metadata": {},
   "source": [
    "Question 6.\n",
    "Write a query that lists the countries with no missing values in their gdp. Use the world table."
   ]
  },
  {
   "cell_type": "code",
   "execution_count": 27,
   "metadata": {},
   "outputs": [
    {
     "data": {
      "text/plain": [
       "195"
      ]
     },
     "execution_count": 27,
     "metadata": {},
     "output_type": "execute_result"
    }
   ],
   "source": [
    "world.head()"
   ]
  },
  {
   "cell_type": "code",
   "execution_count": 14,
   "metadata": {},
   "outputs": [
    {
     "data": {
      "text/html": [
       "<div>\n",
       "<style scoped>\n",
       "    .dataframe tbody tr th:only-of-type {\n",
       "        vertical-align: middle;\n",
       "    }\n",
       "\n",
       "    .dataframe tbody tr th {\n",
       "        vertical-align: top;\n",
       "    }\n",
       "\n",
       "    .dataframe thead th {\n",
       "        text-align: right;\n",
       "    }\n",
       "</style>\n",
       "<table border=\"1\" class=\"dataframe\">\n",
       "  <thead>\n",
       "    <tr style=\"text-align: right;\">\n",
       "      <th></th>\n",
       "      <th>name</th>\n",
       "      <th>gdp</th>\n",
       "    </tr>\n",
       "  </thead>\n",
       "  <tbody>\n",
       "    <tr>\n",
       "      <th>0</th>\n",
       "      <td>Afghanistan</td>\n",
       "      <td>2.036400e+10</td>\n",
       "    </tr>\n",
       "    <tr>\n",
       "      <th>1</th>\n",
       "      <td>Albania</td>\n",
       "      <td>1.204400e+10</td>\n",
       "    </tr>\n",
       "    <tr>\n",
       "      <th>2</th>\n",
       "      <td>Algeria</td>\n",
       "      <td>2.070210e+11</td>\n",
       "    </tr>\n",
       "    <tr>\n",
       "      <th>3</th>\n",
       "      <td>Andorra</td>\n",
       "      <td>3.222000e+09</td>\n",
       "    </tr>\n",
       "    <tr>\n",
       "      <th>4</th>\n",
       "      <td>Angola</td>\n",
       "      <td>1.163080e+11</td>\n",
       "    </tr>\n",
       "    <tr>\n",
       "      <th>...</th>\n",
       "      <td>...</td>\n",
       "      <td>...</td>\n",
       "    </tr>\n",
       "    <tr>\n",
       "      <th>190</th>\n",
       "      <td>Venezuela</td>\n",
       "      <td>3.824240e+11</td>\n",
       "    </tr>\n",
       "    <tr>\n",
       "      <th>191</th>\n",
       "      <td>Vietnam</td>\n",
       "      <td>1.558200e+11</td>\n",
       "    </tr>\n",
       "    <tr>\n",
       "      <th>192</th>\n",
       "      <td>Yemen</td>\n",
       "      <td>3.283100e+10</td>\n",
       "    </tr>\n",
       "    <tr>\n",
       "      <th>193</th>\n",
       "      <td>Zambia</td>\n",
       "      <td>2.149000e+10</td>\n",
       "    </tr>\n",
       "    <tr>\n",
       "      <th>194</th>\n",
       "      <td>Zimbabwe</td>\n",
       "      <td>9.802000e+09</td>\n",
       "    </tr>\n",
       "  </tbody>\n",
       "</table>\n",
       "<p>189 rows × 2 columns</p>\n",
       "</div>"
      ],
      "text/plain": [
       "            name           gdp\n",
       "0    Afghanistan  2.036400e+10\n",
       "1        Albania  1.204400e+10\n",
       "2        Algeria  2.070210e+11\n",
       "3        Andorra  3.222000e+09\n",
       "4         Angola  1.163080e+11\n",
       "..           ...           ...\n",
       "190    Venezuela  3.824240e+11\n",
       "191      Vietnam  1.558200e+11\n",
       "192        Yemen  3.283100e+10\n",
       "193       Zambia  2.149000e+10\n",
       "194     Zimbabwe  9.802000e+09\n",
       "\n",
       "[189 rows x 2 columns]"
      ]
     },
     "execution_count": 14,
     "metadata": {},
     "output_type": "execute_result"
    }
   ],
   "source": [
    "world.loc[:,['name','gdp']][(world['gdp'].notnull())]\n",
    "#world[['name','gdp']][world['gdp'].notnull()]      "
   ]
  },
  {
   "cell_type": "markdown",
   "metadata": {},
   "source": [
    "QUES;7Write a query that lists the countries with no missing values in any of their attributes [only in Python for now]. Use the world table."
   ]
  },
  {
   "cell_type": "code",
   "execution_count": 15,
   "metadata": {},
   "outputs": [
    {
     "name": "stdout",
     "output_type": "stream",
     "text": [
      "name          0\n",
      "continent     0\n",
      "area          0\n",
      "population    0\n",
      "gdp           6\n",
      "capital       1\n",
      "tld           0\n",
      "flag          0\n",
      "dtype: int64\n"
     ]
    },
    {
     "data": {
      "text/html": [
       "<div>\n",
       "<style scoped>\n",
       "    .dataframe tbody tr th:only-of-type {\n",
       "        vertical-align: middle;\n",
       "    }\n",
       "\n",
       "    .dataframe tbody tr th {\n",
       "        vertical-align: top;\n",
       "    }\n",
       "\n",
       "    .dataframe thead th {\n",
       "        text-align: right;\n",
       "    }\n",
       "</style>\n",
       "<table border=\"1\" class=\"dataframe\">\n",
       "  <thead>\n",
       "    <tr style=\"text-align: right;\">\n",
       "      <th></th>\n",
       "      <th>name</th>\n",
       "    </tr>\n",
       "  </thead>\n",
       "  <tbody>\n",
       "    <tr>\n",
       "      <th>0</th>\n",
       "      <td>Afghanistan</td>\n",
       "    </tr>\n",
       "    <tr>\n",
       "      <th>1</th>\n",
       "      <td>Albania</td>\n",
       "    </tr>\n",
       "    <tr>\n",
       "      <th>2</th>\n",
       "      <td>Algeria</td>\n",
       "    </tr>\n",
       "    <tr>\n",
       "      <th>3</th>\n",
       "      <td>Andorra</td>\n",
       "    </tr>\n",
       "    <tr>\n",
       "      <th>4</th>\n",
       "      <td>Angola</td>\n",
       "    </tr>\n",
       "    <tr>\n",
       "      <th>...</th>\n",
       "      <td>...</td>\n",
       "    </tr>\n",
       "    <tr>\n",
       "      <th>190</th>\n",
       "      <td>Venezuela</td>\n",
       "    </tr>\n",
       "    <tr>\n",
       "      <th>191</th>\n",
       "      <td>Vietnam</td>\n",
       "    </tr>\n",
       "    <tr>\n",
       "      <th>192</th>\n",
       "      <td>Yemen</td>\n",
       "    </tr>\n",
       "    <tr>\n",
       "      <th>193</th>\n",
       "      <td>Zambia</td>\n",
       "    </tr>\n",
       "    <tr>\n",
       "      <th>194</th>\n",
       "      <td>Zimbabwe</td>\n",
       "    </tr>\n",
       "  </tbody>\n",
       "</table>\n",
       "<p>189 rows × 1 columns</p>\n",
       "</div>"
      ],
      "text/plain": [
       "            name\n",
       "0    Afghanistan\n",
       "1        Albania\n",
       "2        Algeria\n",
       "3        Andorra\n",
       "4         Angola\n",
       "..           ...\n",
       "190    Venezuela\n",
       "191      Vietnam\n",
       "192        Yemen\n",
       "193       Zambia\n",
       "194     Zimbabwe\n",
       "\n",
       "[189 rows x 1 columns]"
      ]
     },
     "execution_count": 15,
     "metadata": {},
     "output_type": "execute_result"
    }
   ],
   "source": [
    "#checking where there are null values in the dataframes\n",
    "print(world.isnull().sum())\n",
    "#extracting that part of dataframe\n",
    "world.loc[:,['name']][(world['gdp'].notnull()) & (world['capital'].notnull())]"
   ]
  },
  {
   "cell_type": "markdown",
   "metadata": {},
   "source": [
    "Ques:8\n",
    "Write a query to calculate the average budget for movies produced in USA since 2010 (incl. 2010). Use the movies table.\n"
   ]
  },
  {
   "cell_type": "code",
   "execution_count": 16,
   "metadata": {},
   "outputs": [
    {
     "data": {
      "text/html": [
       "<div>\n",
       "<style scoped>\n",
       "    .dataframe tbody tr th:only-of-type {\n",
       "        vertical-align: middle;\n",
       "    }\n",
       "\n",
       "    .dataframe tbody tr th {\n",
       "        vertical-align: top;\n",
       "    }\n",
       "\n",
       "    .dataframe thead th {\n",
       "        text-align: right;\n",
       "    }\n",
       "</style>\n",
       "<table border=\"1\" class=\"dataframe\">\n",
       "  <thead>\n",
       "    <tr style=\"text-align: right;\">\n",
       "      <th></th>\n",
       "      <th>color</th>\n",
       "      <th>director_name</th>\n",
       "      <th>num_critic_for_reviews</th>\n",
       "      <th>duration</th>\n",
       "      <th>director_facebook_likes</th>\n",
       "      <th>actor_3_facebook_likes</th>\n",
       "      <th>actor_2_name</th>\n",
       "      <th>actor_1_facebook_likes</th>\n",
       "      <th>gross</th>\n",
       "      <th>genres</th>\n",
       "      <th>...</th>\n",
       "      <th>num_user_for_reviews</th>\n",
       "      <th>language</th>\n",
       "      <th>country</th>\n",
       "      <th>content_rating</th>\n",
       "      <th>budget</th>\n",
       "      <th>title_year</th>\n",
       "      <th>actor_2_facebook_likes</th>\n",
       "      <th>imdb_score</th>\n",
       "      <th>aspect_ratio</th>\n",
       "      <th>movie_facebook_likes</th>\n",
       "    </tr>\n",
       "  </thead>\n",
       "  <tbody>\n",
       "    <tr>\n",
       "      <th>0</th>\n",
       "      <td>Color</td>\n",
       "      <td>James Cameron</td>\n",
       "      <td>723.0</td>\n",
       "      <td>178.0</td>\n",
       "      <td>0.0</td>\n",
       "      <td>855.0</td>\n",
       "      <td>Joel David Moore</td>\n",
       "      <td>1000.0</td>\n",
       "      <td>760505847.0</td>\n",
       "      <td>Action|Adventure|Fantasy|Sci-Fi</td>\n",
       "      <td>...</td>\n",
       "      <td>3054.0</td>\n",
       "      <td>English</td>\n",
       "      <td>USA</td>\n",
       "      <td>PG-13</td>\n",
       "      <td>237000000.0</td>\n",
       "      <td>2009.0</td>\n",
       "      <td>936.0</td>\n",
       "      <td>7.9</td>\n",
       "      <td>1.78</td>\n",
       "      <td>33000</td>\n",
       "    </tr>\n",
       "    <tr>\n",
       "      <th>1</th>\n",
       "      <td>Color</td>\n",
       "      <td>Gore Verbinski</td>\n",
       "      <td>302.0</td>\n",
       "      <td>169.0</td>\n",
       "      <td>563.0</td>\n",
       "      <td>1000.0</td>\n",
       "      <td>Orlando Bloom</td>\n",
       "      <td>40000.0</td>\n",
       "      <td>309404152.0</td>\n",
       "      <td>Action|Adventure|Fantasy</td>\n",
       "      <td>...</td>\n",
       "      <td>1238.0</td>\n",
       "      <td>English</td>\n",
       "      <td>USA</td>\n",
       "      <td>PG-13</td>\n",
       "      <td>300000000.0</td>\n",
       "      <td>2007.0</td>\n",
       "      <td>5000.0</td>\n",
       "      <td>7.1</td>\n",
       "      <td>2.35</td>\n",
       "      <td>0</td>\n",
       "    </tr>\n",
       "    <tr>\n",
       "      <th>2</th>\n",
       "      <td>Color</td>\n",
       "      <td>Sam Mendes</td>\n",
       "      <td>602.0</td>\n",
       "      <td>148.0</td>\n",
       "      <td>0.0</td>\n",
       "      <td>161.0</td>\n",
       "      <td>Rory Kinnear</td>\n",
       "      <td>11000.0</td>\n",
       "      <td>200074175.0</td>\n",
       "      <td>Action|Adventure|Thriller</td>\n",
       "      <td>...</td>\n",
       "      <td>994.0</td>\n",
       "      <td>English</td>\n",
       "      <td>UK</td>\n",
       "      <td>PG-13</td>\n",
       "      <td>245000000.0</td>\n",
       "      <td>2015.0</td>\n",
       "      <td>393.0</td>\n",
       "      <td>6.8</td>\n",
       "      <td>2.35</td>\n",
       "      <td>85000</td>\n",
       "    </tr>\n",
       "    <tr>\n",
       "      <th>3</th>\n",
       "      <td>Color</td>\n",
       "      <td>Christopher Nolan</td>\n",
       "      <td>813.0</td>\n",
       "      <td>164.0</td>\n",
       "      <td>22000.0</td>\n",
       "      <td>23000.0</td>\n",
       "      <td>Christian Bale</td>\n",
       "      <td>27000.0</td>\n",
       "      <td>448130642.0</td>\n",
       "      <td>Action|Thriller</td>\n",
       "      <td>...</td>\n",
       "      <td>2701.0</td>\n",
       "      <td>English</td>\n",
       "      <td>USA</td>\n",
       "      <td>PG-13</td>\n",
       "      <td>250000000.0</td>\n",
       "      <td>2012.0</td>\n",
       "      <td>23000.0</td>\n",
       "      <td>8.5</td>\n",
       "      <td>2.35</td>\n",
       "      <td>164000</td>\n",
       "    </tr>\n",
       "    <tr>\n",
       "      <th>4</th>\n",
       "      <td>NaN</td>\n",
       "      <td>Doug Walker</td>\n",
       "      <td>NaN</td>\n",
       "      <td>NaN</td>\n",
       "      <td>131.0</td>\n",
       "      <td>NaN</td>\n",
       "      <td>Rob Walker</td>\n",
       "      <td>131.0</td>\n",
       "      <td>NaN</td>\n",
       "      <td>Documentary</td>\n",
       "      <td>...</td>\n",
       "      <td>NaN</td>\n",
       "      <td>NaN</td>\n",
       "      <td>NaN</td>\n",
       "      <td>NaN</td>\n",
       "      <td>NaN</td>\n",
       "      <td>NaN</td>\n",
       "      <td>12.0</td>\n",
       "      <td>7.1</td>\n",
       "      <td>NaN</td>\n",
       "      <td>0</td>\n",
       "    </tr>\n",
       "  </tbody>\n",
       "</table>\n",
       "<p>5 rows × 28 columns</p>\n",
       "</div>"
      ],
      "text/plain": [
       "   color      director_name  num_critic_for_reviews  duration  \\\n",
       "0  Color      James Cameron                   723.0     178.0   \n",
       "1  Color     Gore Verbinski                   302.0     169.0   \n",
       "2  Color         Sam Mendes                   602.0     148.0   \n",
       "3  Color  Christopher Nolan                   813.0     164.0   \n",
       "4    NaN        Doug Walker                     NaN       NaN   \n",
       "\n",
       "   director_facebook_likes  actor_3_facebook_likes      actor_2_name  \\\n",
       "0                      0.0                   855.0  Joel David Moore   \n",
       "1                    563.0                  1000.0     Orlando Bloom   \n",
       "2                      0.0                   161.0      Rory Kinnear   \n",
       "3                  22000.0                 23000.0    Christian Bale   \n",
       "4                    131.0                     NaN        Rob Walker   \n",
       "\n",
       "   actor_1_facebook_likes        gross                           genres  ...  \\\n",
       "0                  1000.0  760505847.0  Action|Adventure|Fantasy|Sci-Fi  ...   \n",
       "1                 40000.0  309404152.0         Action|Adventure|Fantasy  ...   \n",
       "2                 11000.0  200074175.0        Action|Adventure|Thriller  ...   \n",
       "3                 27000.0  448130642.0                  Action|Thriller  ...   \n",
       "4                   131.0          NaN                      Documentary  ...   \n",
       "\n",
       "  num_user_for_reviews language  country  content_rating       budget  \\\n",
       "0               3054.0  English      USA           PG-13  237000000.0   \n",
       "1               1238.0  English      USA           PG-13  300000000.0   \n",
       "2                994.0  English       UK           PG-13  245000000.0   \n",
       "3               2701.0  English      USA           PG-13  250000000.0   \n",
       "4                  NaN      NaN      NaN             NaN          NaN   \n",
       "\n",
       "   title_year actor_2_facebook_likes imdb_score  aspect_ratio  \\\n",
       "0      2009.0                  936.0        7.9          1.78   \n",
       "1      2007.0                 5000.0        7.1          2.35   \n",
       "2      2015.0                  393.0        6.8          2.35   \n",
       "3      2012.0                23000.0        8.5          2.35   \n",
       "4         NaN                   12.0        7.1           NaN   \n",
       "\n",
       "  movie_facebook_likes  \n",
       "0                33000  \n",
       "1                    0  \n",
       "2                85000  \n",
       "3               164000  \n",
       "4                    0  \n",
       "\n",
       "[5 rows x 28 columns]"
      ]
     },
     "execution_count": 16,
     "metadata": {},
     "output_type": "execute_result"
    }
   ],
   "source": [
    "#inspecting the data\n",
    "movies.head()"
   ]
  },
  {
   "cell_type": "code",
   "execution_count": 17,
   "metadata": {},
   "outputs": [
    {
     "name": "stdout",
     "output_type": "stream",
     "text": [
      "The average budget for movies produced in USA since 2010 (incl. 2010) is  budget    5.188213e+07\n",
      "dtype: float64\n"
     ]
    }
   ],
   "source": [
    "print('The average budget for movies produced in USA since 2010 (incl. 2010) is ',(movies.loc[:,['budget']][(movies['country']=='USA') & (movies['title_year']>=2010)].mean()))"
   ]
  },
  {
   "cell_type": "markdown",
   "metadata": {},
   "source": [
    "Ques:9Write a query to count the number of unique directors by names. Use the movies table.\n"
   ]
  },
  {
   "cell_type": "code",
   "execution_count": 18,
   "metadata": {},
   "outputs": [
    {
     "data": {
      "text/plain": [
       "1893"
      ]
     },
     "execution_count": 18,
     "metadata": {},
     "output_type": "execute_result"
    }
   ],
   "source": [
    "len(movies['director_name'].unique())\n",
    "#movies['director_name'].nunique()"
   ]
  },
  {
   "cell_type": "markdown",
   "metadata": {},
   "source": [
    "Question 10.\n",
    "Write a query that returns the years in which no Nobel price is given for physics. Use the nobel table.\n"
   ]
  },
  {
   "cell_type": "code",
   "execution_count": 19,
   "metadata": {},
   "outputs": [
    {
     "data": {
      "text/html": [
       "<div>\n",
       "<style scoped>\n",
       "    .dataframe tbody tr th:only-of-type {\n",
       "        vertical-align: middle;\n",
       "    }\n",
       "\n",
       "    .dataframe tbody tr th {\n",
       "        vertical-align: top;\n",
       "    }\n",
       "\n",
       "    .dataframe thead th {\n",
       "        text-align: right;\n",
       "    }\n",
       "</style>\n",
       "<table border=\"1\" class=\"dataframe\">\n",
       "  <thead>\n",
       "    <tr style=\"text-align: right;\">\n",
       "      <th></th>\n",
       "      <th>yr</th>\n",
       "      <th>subject</th>\n",
       "      <th>winner</th>\n",
       "    </tr>\n",
       "  </thead>\n",
       "  <tbody>\n",
       "    <tr>\n",
       "      <th>0</th>\n",
       "      <td>1901</td>\n",
       "      <td>Chemistry</td>\n",
       "      <td>Jacobus Henricus van 't Hoff</td>\n",
       "    </tr>\n",
       "    <tr>\n",
       "      <th>1</th>\n",
       "      <td>1901</td>\n",
       "      <td>Literature</td>\n",
       "      <td>Sully Prudhomme</td>\n",
       "    </tr>\n",
       "    <tr>\n",
       "      <th>2</th>\n",
       "      <td>1901</td>\n",
       "      <td>Medicine</td>\n",
       "      <td>Emil Adolf von Behring</td>\n",
       "    </tr>\n",
       "    <tr>\n",
       "      <th>3</th>\n",
       "      <td>1901</td>\n",
       "      <td>Peace</td>\n",
       "      <td>Jean Henry Dunant</td>\n",
       "    </tr>\n",
       "    <tr>\n",
       "      <th>4</th>\n",
       "      <td>1901</td>\n",
       "      <td>Peace</td>\n",
       "      <td>Frédéric Passy</td>\n",
       "    </tr>\n",
       "  </tbody>\n",
       "</table>\n",
       "</div>"
      ],
      "text/plain": [
       "     yr     subject                        winner\n",
       "0  1901   Chemistry  Jacobus Henricus van 't Hoff\n",
       "1  1901  Literature               Sully Prudhomme\n",
       "2  1901    Medicine        Emil Adolf von Behring\n",
       "3  1901       Peace             Jean Henry Dunant\n",
       "4  1901       Peace                Frédéric Passy"
      ]
     },
     "execution_count": 19,
     "metadata": {},
     "output_type": "execute_result"
    }
   ],
   "source": [
    "nobel.head()\n"
   ]
  },
  {
   "cell_type": "code",
   "execution_count": 20,
   "metadata": {},
   "outputs": [
    {
     "data": {
      "text/plain": [
       "5      1901\n",
       "11     1902\n",
       "12     1902\n",
       "17     1903\n",
       "18     1903\n",
       "       ... \n",
       "956    2015\n",
       "957    2015\n",
       "966    2016\n",
       "967    2016\n",
       "968    2016\n",
       "Name: yr, Length: 222, dtype: int64"
      ]
     },
     "execution_count": 20,
     "metadata": {},
     "output_type": "execute_result"
    }
   ],
   "source": [
    "nobel.loc[:,'yr'][(nobel['subject'] =='Physics')]"
   ]
  },
  {
   "cell_type": "markdown",
   "metadata": {},
   "source": [
    "Question 11.\n",
    "Write a query to count the number of Nobel price winners from Netherlands. Use nobel table.\n"
   ]
  },
  {
   "cell_type": "code",
   "execution_count": 21,
   "metadata": {},
   "outputs": [],
   "source": [
    "\n",
    "#nobel.loc[:,'winner'][(nobel['country'] =='Netherlands')].sum()"
   ]
  },
  {
   "cell_type": "markdown",
   "metadata": {},
   "source": [
    "Question 12.\n",
    "Write a query to find the number of Nobel price winners of each country. Use nobel table."
   ]
  },
  {
   "cell_type": "code",
   "execution_count": 22,
   "metadata": {},
   "outputs": [],
   "source": [
    "#nobel[['winner','country']].groupby(\"country\").sum()"
   ]
  },
  {
   "cell_type": "markdown",
   "metadata": {},
   "source": [
    "Question 13.Write a query to count the number of Nobel prize winners in Physics.  Usenobel table."
   ]
  },
  {
   "cell_type": "code",
   "execution_count": 38,
   "metadata": {},
   "outputs": [
    {
     "data": {
      "text/plain": [
       "222"
      ]
     },
     "execution_count": 38,
     "metadata": {},
     "output_type": "execute_result"
    }
   ],
   "source": [
    "nobel.loc[:,'winner'][(nobel['subject'] =='Physics')].count()"
   ]
  },
  {
   "cell_type": "markdown",
   "metadata": {},
   "source": [
    "Question 14.Write a query to find the number of Nobel prize winners in each subject.  Use nobel table."
   ]
  },
  {
   "cell_type": "code",
   "execution_count": 36,
   "metadata": {},
   "outputs": [
    {
     "data": {
      "text/html": [
       "<div>\n",
       "<style scoped>\n",
       "    .dataframe tbody tr th:only-of-type {\n",
       "        vertical-align: middle;\n",
       "    }\n",
       "\n",
       "    .dataframe tbody tr th {\n",
       "        vertical-align: top;\n",
       "    }\n",
       "\n",
       "    .dataframe thead th {\n",
       "        text-align: right;\n",
       "    }\n",
       "</style>\n",
       "<table border=\"1\" class=\"dataframe\">\n",
       "  <thead>\n",
       "    <tr style=\"text-align: right;\">\n",
       "      <th></th>\n",
       "      <th>count</th>\n",
       "    </tr>\n",
       "    <tr>\n",
       "      <th>subject</th>\n",
       "      <th></th>\n",
       "    </tr>\n",
       "  </thead>\n",
       "  <tbody>\n",
       "    <tr>\n",
       "      <th>Chemistry</th>\n",
       "      <td>194</td>\n",
       "    </tr>\n",
       "    <tr>\n",
       "      <th>Economics</th>\n",
       "      <td>83</td>\n",
       "    </tr>\n",
       "    <tr>\n",
       "      <th>Literature</th>\n",
       "      <td>113</td>\n",
       "    </tr>\n",
       "    <tr>\n",
       "      <th>Medicine</th>\n",
       "      <td>227</td>\n",
       "    </tr>\n",
       "    <tr>\n",
       "      <th>Peace</th>\n",
       "      <td>130</td>\n",
       "    </tr>\n",
       "    <tr>\n",
       "      <th>Physics</th>\n",
       "      <td>222</td>\n",
       "    </tr>\n",
       "  </tbody>\n",
       "</table>\n",
       "</div>"
      ],
      "text/plain": [
       "            count\n",
       "subject          \n",
       "Chemistry     194\n",
       "Economics      83\n",
       "Literature    113\n",
       "Medicine      227\n",
       "Peace         130\n",
       "Physics       222"
      ]
     },
     "execution_count": 36,
     "metadata": {},
     "output_type": "execute_result"
    }
   ],
   "source": [
    "nobel.groupby('subject')['winner'].agg(['count'])\n",
    "  "
   ]
  },
  {
   "cell_type": "code",
   "execution_count": null,
   "metadata": {},
   "outputs": [],
   "source": []
  }
 ],
 "metadata": {
  "kernelspec": {
   "display_name": "Python 3",
   "language": "python",
   "name": "python3"
  },
  "language_info": {
   "codemirror_mode": {
    "name": "ipython",
    "version": 3
   },
   "file_extension": ".py",
   "mimetype": "text/x-python",
   "name": "python",
   "nbconvert_exporter": "python",
   "pygments_lexer": "ipython3",
   "version": "3.7.6"
  }
 },
 "nbformat": 4,
 "nbformat_minor": 4
}
